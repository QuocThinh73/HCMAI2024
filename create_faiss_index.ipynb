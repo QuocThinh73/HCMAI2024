{
 "cells": [
  {
   "cell_type": "code",
   "execution_count": 1,
   "metadata": {},
   "outputs": [],
   "source": [
    "import torch\n",
    "from PIL import Image\n",
    "import faiss\n",
    "import numpy as np\n",
    "import clip\n",
    "import json\n",
    "import glob\n",
    "import os"
   ]
  },
  {
   "cell_type": "code",
   "execution_count": 4,
   "metadata": {},
   "outputs": [],
   "source": [
    "# Kiểm tra và sử dụng GPU nếu có, nếu không thì sử dụng CPU\n",
    "device = \"cuda\" if torch.cuda.is_available() else \"cpu\"\n",
    "# Tải mô hình CLIP và preprocess\n",
    "model, preprocess = clip.load(\"ViT-B/32\", device=device)\n",
    "index_file = 'faiss_normal_ViT.bin'\n",
    "json_file = 'image_path.json'"
   ]
  },
  {
   "cell_type": "code",
   "execution_count": 7,
   "metadata": {},
   "outputs": [
    {
     "name": "stdout",
     "output_type": "stream",
     "text": [
      "FAISS index mới đã được tạo.\n"
     ]
    }
   ],
   "source": [
    "# Tải FAISS index và từ điển ánh xạ đã lưu, nếu tồn tại\n",
    "if os.path.exists(index_file):\n",
    "    index = faiss.read_index('faiss_normal_ViT.bin')\n",
    "    if os.path.exists(json_file):\n",
    "        with open(json_file, 'r') as f:\n",
    "            id2img_fps = json.load(f)\n",
    "        current_num_images = index.ntotal\n",
    "        print(f\"Đã tải {current_num_images} ảnh từ FAISS index và image_path.json.\")\n",
    "    else:\n",
    "        # Nếu chưa có image_path.json, tạo mới\n",
    "        id2img_fps = {}\n",
    "        current_num_images = 0\n",
    "        print(f\"FAISS index đã tồn tại, nhưng không có image_path.json. Tạo mới.\")\n",
    "else:\n",
    "    # Khởi tạo FAISS index mới nếu chưa tồn tại\n",
    "    dimension = 512  # Kích thước của embedding từ CLIP (512 cho ViT-B/32)\n",
    "    index = faiss.IndexFlatL2(dimension)\n",
    "    id2img_fps = {}\n",
    "    current_num_images = 0\n",
    "    print(\"FAISS index mới đã được tạo.\")"
   ]
  },
  {
   "cell_type": "code",
   "execution_count": 9,
   "metadata": {},
   "outputs": [
    {
     "name": "stdout",
     "output_type": "stream",
     "text": [
      "Số lượng ảnh mới cần thêm: 951\n"
     ]
    }
   ],
   "source": [
    "# Tìm các ảnh mới mà chưa có trong id2img_fps\n",
    "existing_image_paths = set(id2img_fps.values())\n",
    "list_image = glob.glob(\"images/L02/L02_V002/*.jpg\")\n",
    "new_image_paths = [img_path for img_path in list_image if img_path not in existing_image_paths]\n",
    "\n",
    "print(f\"Số lượng ảnh mới cần thêm: {len(new_image_paths)}\")"
   ]
  },
  {
   "cell_type": "code",
   "execution_count": 10,
   "metadata": {},
   "outputs": [
    {
     "name": "stdout",
     "output_type": "stream",
     "text": [
      "Đã thêm 951 ảnh mới vào FAISS index.\n",
      "Đã lưu FAISS index vào faiss_normal_ViT.bin\n",
      "Đã lưu từ điển ánh xạ vào image_path.json\n"
     ]
    }
   ],
   "source": [
    "# Tạo embedding cho các ảnh mới\n",
    "new_features = []\n",
    "new_id2img_fps = {}\n",
    "\n",
    "for id, image_path in enumerate(new_image_paths, start=current_num_images):\n",
    "    id2img_fps[id] = image_path\n",
    "    image = preprocess(Image.open(image_path)).unsqueeze(0).to(device)\n",
    "    with torch.no_grad():\n",
    "        image_features = model.encode_image(image).detach().cpu().numpy()\n",
    "        new_features.append(image_features)\n",
    "        new_id2img_fps[id] = image_path\n",
    "\n",
    "if new_features:\n",
    "    new_image_embeddings = np.concatenate(new_features)\n",
    "    index.add(new_image_embeddings)\n",
    "    print(f\"Đã thêm {len(new_features)} ảnh mới vào FAISS index.\")\n",
    "\n",
    "    # Lưu FAISS index đã cập nhật\n",
    "    faiss.write_index(index, index_file)\n",
    "    print(f\"Đã lưu FAISS index vào {index_file}\")\n",
    "\n",
    "    # Cập nhật và lưu lại từ điển ánh xạ\n",
    "    with open(json_file, 'w') as f:\n",
    "        f.write(json.dumps(id2img_fps))\n",
    "    print(f\"Đã lưu từ điển ánh xạ vào {json_file}\")\n",
    "else:\n",
    "    print(\"Không có ảnh mới để thêm.\")"
   ]
  }
 ],
 "metadata": {
  "kernelspec": {
   "display_name": "Python 3",
   "language": "python",
   "name": "python3"
  },
  "language_info": {
   "codemirror_mode": {
    "name": "ipython",
    "version": 3
   },
   "file_extension": ".py",
   "mimetype": "text/x-python",
   "name": "python",
   "nbconvert_exporter": "python",
   "pygments_lexer": "ipython3",
   "version": "3.10.1"
  }
 },
 "nbformat": 4,
 "nbformat_minor": 2
}
