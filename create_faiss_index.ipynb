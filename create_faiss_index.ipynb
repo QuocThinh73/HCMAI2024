{
 "cells": [
  {
   "cell_type": "code",
   "execution_count": 1,
   "metadata": {},
   "outputs": [],
   "source": [
    "import torch\n",
    "from PIL import Image\n",
    "import faiss\n",
    "import numpy as np\n",
    "import clip\n",
    "import json\n",
    "import glob"
   ]
  },
  {
   "cell_type": "code",
   "execution_count": 2,
   "metadata": {},
   "outputs": [],
   "source": [
    "# Kiểm tra và sử dụng GPU nếu có, nếu không thì sử dụng CPU\n",
    "device = \"cuda\" if torch.cuda.is_available() else \"cpu\""
   ]
  },
  {
   "cell_type": "code",
   "execution_count": 3,
   "metadata": {},
   "outputs": [],
   "source": [
    "# Tải mô hình CLIP và preprocess\n",
    "model, preprocess = clip.load(\"ViT-B/32\", device=device)"
   ]
  },
  {
   "cell_type": "code",
   "execution_count": null,
   "metadata": {},
   "outputs": [],
   "source": [
    "# Danh sách lưu trữ các vector đặc trưng và ánh xạ từ ID đến đường dẫn ảnh\n",
    "features = []\n",
    "id2img_fps = {}\n",
    "\n",
    "# Lấy danh sách tất cả các file ảnh .jpg trong thư mục images và thư mục con của images\n",
    "list_image = glob.glob(\"images/**/*.jpg\", recursive=True)\n",
    "\n",
    "# Duyệt qua từng hình ảnh và trích xuất vector đặc trưng\n",
    "for id, image_path in enumerate(list_image):\n",
    "    id2img_fps[id] = image_path  # Lưu ánh xạ từ ID đến đường dẫn hình ảnh\n",
    "    image = preprocess(Image.open(image_path)).unsqueeze(0).to(device)  # Chuẩn bị hình ảnh để đưa vào mô hình\n",
    "    with torch.no_grad():\n",
    "        image_features = model.encode_image(image).detach().cpu().numpy()  # Trích xuất vector đặc trưng từ hình ảnh\n",
    "    features.append(image_features)  # Lưu vector đặc trưng vào danh sách\n",
    "\n",
    "# Kết hợp tất cả các vector đặc trưng thành một mảng numpy\n",
    "image_embeddings = np.concatenate(features)\n",
    "\n",
    "# Lưu ánh xạ từ ID đến đường dẫn hình ảnh vào file image_path.json\n",
    "with open('image_path.json', 'w') as f:\n",
    "    f.write(json.dumps(id2img_fps))"
   ]
  },
  {
   "cell_type": "code",
   "execution_count": null,
   "metadata": {},
   "outputs": [],
   "source": [
    "# Tạo FAISS index sử dụng cosine similarity (IndexFlatIP)\n",
    "index = faiss.IndexFlatIP(image_embeddings.shape[1])  # IndexFlatIP phù hợp với cosine similarity\n",
    "index.add(image_embeddings)  # Thêm các vector đặc trưng vào FAISS index\n",
    "\n",
    "# Lưu FAISS index vào file bin\n",
    "faiss.write_index(index, 'faiss_normal_ViT.bin')\n",
    "\n",
    "print(\"FAISS index đã được tạo và lưu trữ thành công.\")"
   ]
  }
 ],
 "metadata": {
  "kernelspec": {
   "display_name": "Python 3",
   "language": "python",
   "name": "python3"
  },
  "language_info": {
   "codemirror_mode": {
    "name": "ipython",
    "version": 3
   },
   "file_extension": ".py",
   "mimetype": "text/x-python",
   "name": "python",
   "nbconvert_exporter": "python",
   "pygments_lexer": "ipython3",
   "version": "3.10.12"
  }
 },
 "nbformat": 4,
 "nbformat_minor": 2
}
